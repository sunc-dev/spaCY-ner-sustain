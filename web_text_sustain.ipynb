{
  "nbformat": 4,
  "nbformat_minor": 0,
  "metadata": {
    "colab": {
      "name": "web-text-sustain",
      "provenance": [],
      "authorship_tag": "ABX9TyOgpdDkWj5LBHmSfI9dTt+q",
      "include_colab_link": true
    },
    "kernelspec": {
      "name": "python3",
      "display_name": "Python 3"
    }
  },
  "cells": [
    {
      "cell_type": "markdown",
      "metadata": {
        "id": "view-in-github",
        "colab_type": "text"
      },
      "source": [
        "<a href=\"https://colab.research.google.com/github/sunc-dev/spaCY-ner-sustain/blob/main/web_text_sustain.ipynb\" target=\"_parent\"><img src=\"https://colab.research.google.com/assets/colab-badge.svg\" alt=\"Open In Colab\"/></a>"
      ]
    },
    {
      "cell_type": "code",
      "metadata": {
        "id": "nvVrn8UzbVQB",
        "outputId": "b2ddac91-df8c-4d53-d963-a91da6b7b327",
        "colab": {
          "base_uri": "https://localhost:8080/"
        }
      },
      "source": [
        "!pip install justext"
      ],
      "execution_count": 1,
      "outputs": [
        {
          "output_type": "stream",
          "text": [
            "Collecting justext\n",
            "\u001b[?25l  Downloading https://files.pythonhosted.org/packages/6c/5f/c7b909b4b864ebcacfac23ce2f6f01a50c53628787cc14b3c06f79464cab/jusText-2.2.0-py2.py3-none-any.whl (860kB)\n",
            "\u001b[K     |████████████████████████████████| 870kB 2.7MB/s \n",
            "\u001b[?25hRequirement already satisfied: lxml>=2.2.4 in /usr/local/lib/python3.6/dist-packages (from justext) (4.2.6)\n",
            "Installing collected packages: justext\n",
            "Successfully installed justext-2.2.0\n"
          ],
          "name": "stdout"
        }
      ]
    },
    {
      "cell_type": "code",
      "metadata": {
        "id": "eBnxii0XcH7J"
      },
      "source": [
        "import requests\n",
        "import justext\n",
        "\n",
        "\n",
        "urls =[\n",
        "       #sump pumps\n",
        "       'https://en.wikipedia.org/wiki/Sump_pump',\n",
        "       'https://www.triadbasementwaterproofing.com/blog/2016/11/dont-make-these-10-common-mistakes-with-your-sump-pump/',\n",
        "       'https://www.sumppumpsdirect.com/stories/101-How-To-Pick-The-Perfect-Sump-Pump.html',\n",
        "       'https://www.bobvila.com/articles/some-advice-about-sump-pumps/',\n",
        "       'https://www.drainkingplumbers.ca/flood-protection/sump-pump/',\n",
        "       \n",
        "       #green roofs\n",
        "       'https://greenroofs.org/about-green-roofs',\n",
        "       'https://en.wikipedia.org/wiki/Green_roof',\n",
        "       'https://science.howstuffworks.com/environmental/green-science/green-rooftop.htm',\n",
        "       'https://www.toronto.ca/city-government/planning-development/official-plan-guidelines/green-roofs/green-roof-overview/',\n",
        "       'https://www.forbes.com/sites/houzz/2013/12/30/6-busted-green-roof-myths/#3ccc80673384',\n",
        "       'https://sustainabletechnologies.ca/home/urban-runoff-green-infrastructure/low-impact-development/green-roofs/',\n",
        "       'https://www.ecohome.net/guides/1099/living-green-roofs-the-secret-to-success/',\n",
        "\n",
        "       #back-water valves\n",
        "       'https://pw.lacounty.gov/general/faq/index.cfm?Action=getAnswers&FaqID=IyNNMzEK&Theme=default&ShowTemplate=',\n",
        "       'http://www.ibc.ca/on/home/risk-management/mitigation-techniques/backwater-valve',\n",
        "       'https://www.outofthisworldhomeservices.com/blog/do-i-need-a-backwater-valve/',\n",
        "       'https://www.economical.com/en/blog/economical-blog/october-2017/backwater-valve-101',\n",
        "       'http://backwatervalve.com/products/fullport-backwater-valve.html',\n",
        "       'https://www.citywindsor.ca/residents/environment/climate-change-adaptation/climate-resilient-home/Pages/Backwater-Valve.aspx',\n",
        "\n",
        "\n",
        "       #back-up power\n",
        "       'https://en.wikipedia.org/wiki/Emergency_power_system',\n",
        "       \n",
        "       'https://www.generac.com/for-homeowners/home-backup-power',\n",
        "       'https://trustedpros.ca/articles/electrical/top-five-backup-power-options-for-your-home-electrical-system',\n",
        "       'https://news.energysage.com/battery-backup-power-vs-generators-which-is-right-for-you/',\n",
        "       'https://www.nema.org/storm-disaster-recovery/backup-generation/backup-power-systems',\n",
        "       'https://www.generac.com/all-products/generators/home-backup-generators#?cat=6&cat=214&cat=217&cat=249'\n",
        "       \n",
        "]\n",
        "\n"
      ],
      "execution_count": 17,
      "outputs": []
    },
    {
      "cell_type": "code",
      "metadata": {
        "id": "fVvRi7R0gveC"
      },
      "source": [
        "texts = []\n",
        "\n",
        "for url in urls:\n",
        "  response = requests.get(url)\n",
        "  paragraphs = justext.justext(response.content, justext.get_stoplist(\"English\"))\n",
        "  for paragraph in paragraphs:\n",
        "    if not paragraph.is_boilerplate:\n",
        "      texts.append(paragraph)\n",
        "      print(paragraph.text)"
      ],
      "execution_count": null,
      "outputs": []
    },
    {
      "cell_type": "code",
      "metadata": {
        "id": "S9o5p84WcPLf",
        "outputId": "84a20fa9-c955-493a-d544-5d620f13dbb2",
        "colab": {
          "base_uri": "https://localhost:8080/"
        }
      },
      "source": [
        "texts"
      ],
      "execution_count": 15,
      "outputs": [
        {
          "output_type": "execute_result",
          "data": {
            "text/plain": [
              "[<justext.paragraph.Paragraph at 0x7f9dd2d01240>,\n",
              " <justext.paragraph.Paragraph at 0x7f9dd2d01748>,\n",
              " <justext.paragraph.Paragraph at 0x7f9dd2d01160>,\n",
              " <justext.paragraph.Paragraph at 0x7f9dd2d012b0>,\n",
              " <justext.paragraph.Paragraph at 0x7f9dd2d010f0>,\n",
              " <justext.paragraph.Paragraph at 0x7f9dd2d011d0>,\n",
              " <justext.paragraph.Paragraph at 0x7f9dd2d01c50>,\n",
              " <justext.paragraph.Paragraph at 0x7f9dd2d01438>,\n",
              " <justext.paragraph.Paragraph at 0x7f9dd2d01b70>,\n",
              " <justext.paragraph.Paragraph at 0x7f9dd2d01cf8>,\n",
              " <justext.paragraph.Paragraph at 0x7f9dd2d01d30>,\n",
              " <justext.paragraph.Paragraph at 0x7f9dd2d019b0>,\n",
              " <justext.paragraph.Paragraph at 0x7f9dd2d01c18>,\n",
              " <justext.paragraph.Paragraph at 0x7f9dd2d01828>,\n",
              " <justext.paragraph.Paragraph at 0x7f9dd2d01da0>,\n",
              " <justext.paragraph.Paragraph at 0x7f9dd2d01e48>,\n",
              " <justext.paragraph.Paragraph at 0x7f9dd2d01f28>,\n",
              " <justext.paragraph.Paragraph at 0x7f9dd2d01f98>,\n",
              " <justext.paragraph.Paragraph at 0x7f9dd2d01978>,\n",
              " <justext.paragraph.Paragraph at 0x7f9dd2cf00f0>,\n",
              " <justext.paragraph.Paragraph at 0x7f9dd2cf0080>,\n",
              " <justext.paragraph.Paragraph at 0x7f9dd2cf0240>,\n",
              " <justext.paragraph.Paragraph at 0x7f9dd2cf0400>,\n",
              " <justext.paragraph.Paragraph at 0x7f9dd2cf0320>,\n",
              " <justext.paragraph.Paragraph at 0x7f9dd2cf0518>,\n",
              " <justext.paragraph.Paragraph at 0x7f9dd2cf01d0>,\n",
              " <justext.paragraph.Paragraph at 0x7f9dd2cf0390>,\n",
              " <justext.paragraph.Paragraph at 0x7f9dd2cf0048>,\n",
              " <justext.paragraph.Paragraph at 0x7f9dd2cf06d8>,\n",
              " <justext.paragraph.Paragraph at 0x7f9dd2cf04e0>,\n",
              " <justext.paragraph.Paragraph at 0x7f9dd2cf03c8>,\n",
              " <justext.paragraph.Paragraph at 0x7f9dd2cf0208>,\n",
              " <justext.paragraph.Paragraph at 0x7f9dd2cf0438>,\n",
              " <justext.paragraph.Paragraph at 0x7f9dd2cf07f0>,\n",
              " <justext.paragraph.Paragraph at 0x7f9dd2cf05f8>,\n",
              " <justext.paragraph.Paragraph at 0x7f9dd2cf0908>,\n",
              " <justext.paragraph.Paragraph at 0x7f9dd2cf0710>,\n",
              " <justext.paragraph.Paragraph at 0x7f9dd2cf07b8>,\n",
              " <justext.paragraph.Paragraph at 0x7f9dd2cf0128>,\n",
              " <justext.paragraph.Paragraph at 0x7f9dd2cf0978>,\n",
              " <justext.paragraph.Paragraph at 0x7f9dd2cf0470>,\n",
              " <justext.paragraph.Paragraph at 0x7f9dd2cf0828>,\n",
              " <justext.paragraph.Paragraph at 0x7f9dd2cf0550>,\n",
              " <justext.paragraph.Paragraph at 0x7f9dd2cf0860>,\n",
              " <justext.paragraph.Paragraph at 0x7f9dd2cf09b0>,\n",
              " <justext.paragraph.Paragraph at 0x7f9dd2cf0898>,\n",
              " <justext.paragraph.Paragraph at 0x7f9dd2cf09e8>,\n",
              " <justext.paragraph.Paragraph at 0x7f9dd2cf0a90>,\n",
              " <justext.paragraph.Paragraph at 0x7f9dd2cf0780>,\n",
              " <justext.paragraph.Paragraph at 0x7f9dd2cf0a58>,\n",
              " <justext.paragraph.Paragraph at 0x7f9dd2cf0668>,\n",
              " <justext.paragraph.Paragraph at 0x7f9dd2cf06a0>,\n",
              " <justext.paragraph.Paragraph at 0x7f9dd2cf0b70>,\n",
              " <justext.paragraph.Paragraph at 0x7f9dd2cf02b0>,\n",
              " <justext.paragraph.Paragraph at 0x7f9dd2cf08d0>,\n",
              " <justext.paragraph.Paragraph at 0x7f9dd2cf0be0>,\n",
              " <justext.paragraph.Paragraph at 0x7f9dd2cf0c18>,\n",
              " <justext.paragraph.Paragraph at 0x7f9dd2cf0940>,\n",
              " <justext.paragraph.Paragraph at 0x7f9dd2cf0ac8>,\n",
              " <justext.paragraph.Paragraph at 0x7f9dd2cf0c50>,\n",
              " <justext.paragraph.Paragraph at 0x7f9dd2cf0c88>,\n",
              " <justext.paragraph.Paragraph at 0x7f9dd2cf0358>,\n",
              " <justext.paragraph.Paragraph at 0x7f9dd2cf0cf8>,\n",
              " <justext.paragraph.Paragraph at 0x7f9dd2cf0278>,\n",
              " <justext.paragraph.Paragraph at 0x7f9dd2cf0ef0>,\n",
              " <justext.paragraph.Paragraph at 0x7f9dd2cf0f98>,\n",
              " <justext.paragraph.Paragraph at 0x7f9dd2cf0198>,\n",
              " <justext.paragraph.Paragraph at 0x7f9dd2cf0fd0>,\n",
              " <justext.paragraph.Paragraph at 0x7f9dd2cf0dd8>,\n",
              " <justext.paragraph.Paragraph at 0x7f9dd2cf0f28>,\n",
              " <justext.paragraph.Paragraph at 0x7f9dd2cf0e48>,\n",
              " <justext.paragraph.Paragraph at 0x7f9dd2cf0f60>,\n",
              " <justext.paragraph.Paragraph at 0x7f9dd2cf0cc0>,\n",
              " <justext.paragraph.Paragraph at 0x7f9dd2cf0eb8>,\n",
              " <justext.paragraph.Paragraph at 0x7f9dd2c88f28>,\n",
              " <justext.paragraph.Paragraph at 0x7f9dd2c88e10>,\n",
              " <justext.paragraph.Paragraph at 0x7f9dd2c88cf8>,\n",
              " <justext.paragraph.Paragraph at 0x7f9dd2c88da0>,\n",
              " <justext.paragraph.Paragraph at 0x7f9dd2cf0748>,\n",
              " <justext.paragraph.Paragraph at 0x7f9dd2c88e48>,\n",
              " <justext.paragraph.Paragraph at 0x7f9dd2c88a58>,\n",
              " <justext.paragraph.Paragraph at 0x7f9dd2cf0da0>,\n",
              " <justext.paragraph.Paragraph at 0x7f9dd2c88eb8>,\n",
              " <justext.paragraph.Paragraph at 0x7f9dd2c88ef0>,\n",
              " <justext.paragraph.Paragraph at 0x7f9dd2c88e80>,\n",
              " <justext.paragraph.Paragraph at 0x7f9dd2c88be0>,\n",
              " <justext.paragraph.Paragraph at 0x7f9dd2cf0d68>,\n",
              " <justext.paragraph.Paragraph at 0x7f9dd2cf0588>,\n",
              " <justext.paragraph.Paragraph at 0x7f9dd2c88978>,\n",
              " <justext.paragraph.Paragraph at 0x7f9dd2c88dd8>,\n",
              " <justext.paragraph.Paragraph at 0x7f9dd2c889b0>,\n",
              " <justext.paragraph.Paragraph at 0x7f9dd2c88c88>,\n",
              " <justext.paragraph.Paragraph at 0x7f9dd2c88b70>,\n",
              " <justext.paragraph.Paragraph at 0x7f9dd2c88b38>,\n",
              " <justext.paragraph.Paragraph at 0x7f9dd2c88b00>,\n",
              " <justext.paragraph.Paragraph at 0x7f9dd2c88ac8>,\n",
              " <justext.paragraph.Paragraph at 0x7f9dd2c889e8>,\n",
              " <justext.paragraph.Paragraph at 0x7f9dd2c88fd0>,\n",
              " <justext.paragraph.Paragraph at 0x7f9dd2c88d68>,\n",
              " <justext.paragraph.Paragraph at 0x7f9dd2c88a20>,\n",
              " <justext.paragraph.Paragraph at 0x7f9dd2c888d0>,\n",
              " <justext.paragraph.Paragraph at 0x7f9dd2c88cc0>,\n",
              " <justext.paragraph.Paragraph at 0x7f9dd2c88860>,\n",
              " <justext.paragraph.Paragraph at 0x7f9dd2c88748>,\n",
              " <justext.paragraph.Paragraph at 0x7f9dd2c88908>,\n",
              " <justext.paragraph.Paragraph at 0x7f9dd2c886d8>,\n",
              " <justext.paragraph.Paragraph at 0x7f9dd2c88668>,\n",
              " <justext.paragraph.Paragraph at 0x7f9dd2c88630>,\n",
              " <justext.paragraph.Paragraph at 0x7f9dd2c88710>,\n",
              " <justext.paragraph.Paragraph at 0x7f9dd2c88828>,\n",
              " <justext.paragraph.Paragraph at 0x7f9dd2c88550>,\n",
              " <justext.paragraph.Paragraph at 0x7f9dd2c887b8>,\n",
              " <justext.paragraph.Paragraph at 0x7f9dd2c88518>,\n",
              " <justext.paragraph.Paragraph at 0x7f9dd2c886a0>,\n",
              " <justext.paragraph.Paragraph at 0x7f9dd2c88a90>,\n",
              " <justext.paragraph.Paragraph at 0x7f9dd2c88780>,\n",
              " <justext.paragraph.Paragraph at 0x7f9dd2c887f0>]"
            ]
          },
          "metadata": {
            "tags": []
          },
          "execution_count": 15
        }
      ]
    },
    {
      "cell_type": "code",
      "metadata": {
        "id": "_dVhbAs0d_xh"
      },
      "source": [
        ""
      ],
      "execution_count": null,
      "outputs": []
    }
  ]
}