{
  "nbformat": 4,
  "nbformat_minor": 0,
  "metadata": {
    "colab": {
      "name": "web-text-sustain",
      "provenance": [],
      "authorship_tag": "ABX9TyMoA7fjhOvLDYyIzLeUpkBU",
      "include_colab_link": true
    },
    "kernelspec": {
      "name": "python3",
      "display_name": "Python 3"
    }
  },
  "cells": [
    {
      "cell_type": "markdown",
      "metadata": {
        "id": "view-in-github",
        "colab_type": "text"
      },
      "source": [
        "<a href=\"https://colab.research.google.com/github/sunc-dev/spaCY-ner-sustain/blob/main/web_text_sustain.ipynb\" target=\"_parent\"><img src=\"https://colab.research.google.com/assets/colab-badge.svg\" alt=\"Open In Colab\"/></a>"
      ]
    },
    {
      "cell_type": "code",
      "metadata": {
        "id": "nvVrn8UzbVQB",
        "outputId": "d2c9fdac-eeb3-46e9-f157-3990a69e4591",
        "colab": {
          "base_uri": "https://localhost:8080/"
        }
      },
      "source": [
        "!pip install justext\n",
        "!pip install spacy\n",
        "!pip install pdfminer.six\n",
        "!pip install nltk \n",
        "!python -m spacy download en_core_web_md"
      ],
      "execution_count": 33,
      "outputs": [
        {
          "output_type": "stream",
          "text": [
            "Requirement already satisfied: justext in /usr/local/lib/python3.6/dist-packages (2.2.0)\n",
            "Requirement already satisfied: lxml>=2.2.4 in /usr/local/lib/python3.6/dist-packages (from justext) (4.2.6)\n",
            "Requirement already satisfied: spacy in /usr/local/lib/python3.6/dist-packages (2.2.4)\n",
            "Requirement already satisfied: murmurhash<1.1.0,>=0.28.0 in /usr/local/lib/python3.6/dist-packages (from spacy) (1.0.2)\n",
            "Requirement already satisfied: srsly<1.1.0,>=1.0.2 in /usr/local/lib/python3.6/dist-packages (from spacy) (1.0.2)\n",
            "Requirement already satisfied: wasabi<1.1.0,>=0.4.0 in /usr/local/lib/python3.6/dist-packages (from spacy) (0.8.0)\n",
            "Requirement already satisfied: blis<0.5.0,>=0.4.0 in /usr/local/lib/python3.6/dist-packages (from spacy) (0.4.1)\n",
            "Requirement already satisfied: thinc==7.4.0 in /usr/local/lib/python3.6/dist-packages (from spacy) (7.4.0)\n",
            "Requirement already satisfied: requests<3.0.0,>=2.13.0 in /usr/local/lib/python3.6/dist-packages (from spacy) (2.23.0)\n",
            "Requirement already satisfied: numpy>=1.15.0 in /usr/local/lib/python3.6/dist-packages (from spacy) (1.18.5)\n",
            "Requirement already satisfied: plac<1.2.0,>=0.9.6 in /usr/local/lib/python3.6/dist-packages (from spacy) (1.1.3)\n",
            "Requirement already satisfied: preshed<3.1.0,>=3.0.2 in /usr/local/lib/python3.6/dist-packages (from spacy) (3.0.2)\n",
            "Requirement already satisfied: cymem<2.1.0,>=2.0.2 in /usr/local/lib/python3.6/dist-packages (from spacy) (2.0.3)\n",
            "Requirement already satisfied: setuptools in /usr/local/lib/python3.6/dist-packages (from spacy) (50.3.0)\n",
            "Requirement already satisfied: catalogue<1.1.0,>=0.0.7 in /usr/local/lib/python3.6/dist-packages (from spacy) (1.0.0)\n",
            "Requirement already satisfied: tqdm<5.0.0,>=4.38.0 in /usr/local/lib/python3.6/dist-packages (from spacy) (4.41.1)\n",
            "Requirement already satisfied: urllib3!=1.25.0,!=1.25.1,<1.26,>=1.21.1 in /usr/local/lib/python3.6/dist-packages (from requests<3.0.0,>=2.13.0->spacy) (1.24.3)\n",
            "Requirement already satisfied: certifi>=2017.4.17 in /usr/local/lib/python3.6/dist-packages (from requests<3.0.0,>=2.13.0->spacy) (2020.6.20)\n",
            "Requirement already satisfied: idna<3,>=2.5 in /usr/local/lib/python3.6/dist-packages (from requests<3.0.0,>=2.13.0->spacy) (2.10)\n",
            "Requirement already satisfied: chardet<4,>=3.0.2 in /usr/local/lib/python3.6/dist-packages (from requests<3.0.0,>=2.13.0->spacy) (3.0.4)\n",
            "Requirement already satisfied: importlib-metadata>=0.20; python_version < \"3.8\" in /usr/local/lib/python3.6/dist-packages (from catalogue<1.1.0,>=0.0.7->spacy) (2.0.0)\n",
            "Requirement already satisfied: zipp>=0.5 in /usr/local/lib/python3.6/dist-packages (from importlib-metadata>=0.20; python_version < \"3.8\"->catalogue<1.1.0,>=0.0.7->spacy) (3.3.1)\n",
            "Requirement already satisfied: pdfminer.six in /usr/local/lib/python3.6/dist-packages (20201018)\n",
            "Requirement already satisfied: chardet; python_version > \"3.0\" in /usr/local/lib/python3.6/dist-packages (from pdfminer.six) (3.0.4)\n",
            "Requirement already satisfied: cryptography in /usr/local/lib/python3.6/dist-packages (from pdfminer.six) (3.2.1)\n",
            "Requirement already satisfied: sortedcontainers in /usr/local/lib/python3.6/dist-packages (from pdfminer.six) (2.2.2)\n",
            "Requirement already satisfied: cffi!=1.11.3,>=1.8 in /usr/local/lib/python3.6/dist-packages (from cryptography->pdfminer.six) (1.14.3)\n",
            "Requirement already satisfied: six>=1.4.1 in /usr/local/lib/python3.6/dist-packages (from cryptography->pdfminer.six) (1.15.0)\n",
            "Requirement already satisfied: pycparser in /usr/local/lib/python3.6/dist-packages (from cffi!=1.11.3,>=1.8->cryptography->pdfminer.six) (2.20)\n",
            "Requirement already satisfied: nltk in /usr/local/lib/python3.6/dist-packages (3.2.5)\n",
            "Requirement already satisfied: six in /usr/local/lib/python3.6/dist-packages (from nltk) (1.15.0)\n",
            "Requirement already satisfied: en_core_web_md==2.2.5 from https://github.com/explosion/spacy-models/releases/download/en_core_web_md-2.2.5/en_core_web_md-2.2.5.tar.gz#egg=en_core_web_md==2.2.5 in /usr/local/lib/python3.6/dist-packages (2.2.5)\n",
            "Requirement already satisfied: spacy>=2.2.2 in /usr/local/lib/python3.6/dist-packages (from en_core_web_md==2.2.5) (2.2.4)\n",
            "Requirement already satisfied: thinc==7.4.0 in /usr/local/lib/python3.6/dist-packages (from spacy>=2.2.2->en_core_web_md==2.2.5) (7.4.0)\n",
            "Requirement already satisfied: blis<0.5.0,>=0.4.0 in /usr/local/lib/python3.6/dist-packages (from spacy>=2.2.2->en_core_web_md==2.2.5) (0.4.1)\n",
            "Requirement already satisfied: preshed<3.1.0,>=3.0.2 in /usr/local/lib/python3.6/dist-packages (from spacy>=2.2.2->en_core_web_md==2.2.5) (3.0.2)\n",
            "Requirement already satisfied: plac<1.2.0,>=0.9.6 in /usr/local/lib/python3.6/dist-packages (from spacy>=2.2.2->en_core_web_md==2.2.5) (1.1.3)\n",
            "Requirement already satisfied: murmurhash<1.1.0,>=0.28.0 in /usr/local/lib/python3.6/dist-packages (from spacy>=2.2.2->en_core_web_md==2.2.5) (1.0.2)\n",
            "Requirement already satisfied: setuptools in /usr/local/lib/python3.6/dist-packages (from spacy>=2.2.2->en_core_web_md==2.2.5) (50.3.0)\n",
            "Requirement already satisfied: srsly<1.1.0,>=1.0.2 in /usr/local/lib/python3.6/dist-packages (from spacy>=2.2.2->en_core_web_md==2.2.5) (1.0.2)\n",
            "Requirement already satisfied: catalogue<1.1.0,>=0.0.7 in /usr/local/lib/python3.6/dist-packages (from spacy>=2.2.2->en_core_web_md==2.2.5) (1.0.0)\n",
            "Requirement already satisfied: wasabi<1.1.0,>=0.4.0 in /usr/local/lib/python3.6/dist-packages (from spacy>=2.2.2->en_core_web_md==2.2.5) (0.8.0)\n",
            "Requirement already satisfied: requests<3.0.0,>=2.13.0 in /usr/local/lib/python3.6/dist-packages (from spacy>=2.2.2->en_core_web_md==2.2.5) (2.23.0)\n",
            "Requirement already satisfied: cymem<2.1.0,>=2.0.2 in /usr/local/lib/python3.6/dist-packages (from spacy>=2.2.2->en_core_web_md==2.2.5) (2.0.3)\n",
            "Requirement already satisfied: numpy>=1.15.0 in /usr/local/lib/python3.6/dist-packages (from spacy>=2.2.2->en_core_web_md==2.2.5) (1.18.5)\n",
            "Requirement already satisfied: tqdm<5.0.0,>=4.38.0 in /usr/local/lib/python3.6/dist-packages (from spacy>=2.2.2->en_core_web_md==2.2.5) (4.41.1)\n",
            "Requirement already satisfied: importlib-metadata>=0.20; python_version < \"3.8\" in /usr/local/lib/python3.6/dist-packages (from catalogue<1.1.0,>=0.0.7->spacy>=2.2.2->en_core_web_md==2.2.5) (2.0.0)\n",
            "Requirement already satisfied: idna<3,>=2.5 in /usr/local/lib/python3.6/dist-packages (from requests<3.0.0,>=2.13.0->spacy>=2.2.2->en_core_web_md==2.2.5) (2.10)\n",
            "Requirement already satisfied: urllib3!=1.25.0,!=1.25.1,<1.26,>=1.21.1 in /usr/local/lib/python3.6/dist-packages (from requests<3.0.0,>=2.13.0->spacy>=2.2.2->en_core_web_md==2.2.5) (1.24.3)\n",
            "Requirement already satisfied: certifi>=2017.4.17 in /usr/local/lib/python3.6/dist-packages (from requests<3.0.0,>=2.13.0->spacy>=2.2.2->en_core_web_md==2.2.5) (2020.6.20)\n",
            "Requirement already satisfied: chardet<4,>=3.0.2 in /usr/local/lib/python3.6/dist-packages (from requests<3.0.0,>=2.13.0->spacy>=2.2.2->en_core_web_md==2.2.5) (3.0.4)\n",
            "Requirement already satisfied: zipp>=0.5 in /usr/local/lib/python3.6/dist-packages (from importlib-metadata>=0.20; python_version < \"3.8\"->catalogue<1.1.0,>=0.0.7->spacy>=2.2.2->en_core_web_md==2.2.5) (3.3.1)\n",
            "\u001b[38;5;2m✔ Download and installation successful\u001b[0m\n",
            "You can now load the model via spacy.load('en_core_web_md')\n"
          ],
          "name": "stdout"
        }
      ]
    },
    {
      "cell_type": "code",
      "metadata": {
        "id": "LlI5ego8zrXD"
      },
      "source": [
        "import os\n",
        "import pandas as pd\n",
        "from pathlib import Path\n",
        "import glob\n",
        "from io import StringIO\n",
        "\n",
        "#pdf miner \n",
        "from pdfminer.pdfinterp import PDFResourceManager, PDFPageInterpreter\n",
        "from pdfminer.converter import TextConverter\n",
        "from pdfminer.layout import LAParams\n",
        "from pdfminer.pdfpage import PDFPage\n",
        "from pdfminer.high_level import extract_text\n",
        "\n",
        "#SpaCy \n",
        "import en_core_web_md\n",
        "import spacy\n",
        "from spacy import displacy\n",
        "from spacy.lang.en import English\n",
        "from spacy.matcher import Matcher\n",
        "from spacy.matcher import PhraseMatcher\n",
        "from spacy.pipeline import Sentencizer\n",
        "from spacy.lemmatizer import Lemmatizer, ADJ, NOUN, VERB\n",
        "from spacy.lookups import Lookups\n",
        "#nltk\n",
        "from nltk import tokenize\n"
      ],
      "execution_count": 34,
      "outputs": []
    },
    {
      "cell_type": "markdown",
      "metadata": {
        "id": "ao34gPKE425N"
      },
      "source": [
        "# Scrape request data"
      ]
    },
    {
      "cell_type": "code",
      "metadata": {
        "id": "eBnxii0XcH7J"
      },
      "source": [
        "import requests\n",
        "import justext\n",
        "\n",
        "\n",
        "urls =[\n",
        "       #sump pumps\n",
        "       'https://en.wikipedia.org/wiki/Sump_pump',\n",
        "       'https://www.triadbasementwaterproofing.com/blog/2016/11/dont-make-these-10-common-mistakes-with-your-sump-pump/',\n",
        "       'https://www.sumppumpsdirect.com/stories/101-How-To-Pick-The-Perfect-Sump-Pump.html',\n",
        "       'https://www.bobvila.com/articles/some-advice-about-sump-pumps/',\n",
        "       'https://www.drainkingplumbers.ca/flood-protection/sump-pump/',\n",
        "       'https://eng.ichacha.net/zaoju/sump%20pump.html',\n",
        "       'https://glosbe.com/en/fr/sump%20pump',\n",
        "\n",
        "       #green roofs\n",
        "       'https://greenroofs.org/about-green-roofs',\n",
        "       'https://en.wikipedia.org/wiki/Green_roof',\n",
        "       'https://science.howstuffworks.com/environmental/green-science/green-rooftop.htm',\n",
        "       'https://www.toronto.ca/city-government/planning-development/official-plan-guidelines/green-roofs/green-roof-overview/',\n",
        "       'https://www.forbes.com/sites/houzz/2013/12/30/6-busted-green-roof-myths/#3ccc80673384',\n",
        "       'https://sustainabletechnologies.ca/home/urban-runoff-green-infrastructure/low-impact-development/green-roofs/',\n",
        "       'https://www.ecohome.net/guides/1099/living-green-roofs-the-secret-to-success/',\n",
        "       'https://eng.ichacha.net/zaoju/green%20roof.html',\n",
        "       'https://glosbe.com/en/fr/green%20roof'\n",
        "\n",
        "       #back-water valves\n",
        "       'https://pw.lacounty.gov/general/faq/index.cfm?Action=getAnswers&FaqID=IyNNMzEK&Theme=default&ShowTemplate=',\n",
        "       'http://www.ibc.ca/on/home/risk-management/mitigation-techniques/backwater-valve',\n",
        "       'https://www.outofthisworldhomeservices.com/blog/do-i-need-a-backwater-valve/',\n",
        "       'https://www.economical.com/en/blog/economical-blog/october-2017/backwater-valve-101',\n",
        "       'http://backwatervalve.com/products/fullport-backwater-valve.html',\n",
        "       'https://www.citywindsor.ca/residents/environment/climate-change-adaptation/climate-resilient-home/Pages/Backwater-Valve.aspx',\n",
        "       'https://eng.ichacha.net/zaoju/backwater%20valve.html',\n",
        "       'https://glosbe.com/en/fr/backwater%20valve',\n",
        "\n",
        "\n",
        "       #emergency power system\n",
        "       'https://en.wikipedia.org/wiki/Emergency_power_system',\n",
        "       'https://eng.ichacha.net/zaoju/emergency%20standby.html'\n",
        "       'https://glosbe.com/en/fr/emergency%20power',\n",
        "\n",
        "        #back-up power/generator\n",
        "       'https://www.generac.com/for-homeowners/home-backup-power',\n",
        "       'https://trustedpros.ca/articles/electrical/top-five-backup-power-options-for-your-home-electrical-system',\n",
        "       'https://news.energysage.com/battery-backup-power-vs-generators-which-is-right-for-you/',\n",
        "       'https://www.nema.org/storm-disaster-recovery/backup-generation/backup-power-systems',\n",
        "       'https://www.generac.com/all-products/generators/home-backup-generators#?cat=6&cat=214&cat=217&cat=249',\n",
        "       'https://www.csemag.com/articles/understanding-backup-power-system-fuel-choices/',\n",
        "       'https://eng.ichacha.net/zaoju/backup%20power.html',\n",
        "       'https://eng.ichacha.net/zaoju/backup%20generator.html',\n",
        "\n",
        "        #standby generator\n",
        "       'https://www.popularmechanics.com/home/how-to/a8523/should-you-buy-a-standby-generator-14880060/',\n",
        "       'https://www.iko.com/comm/blog/commercial-roof-drains/',\n",
        "       'https://eng.ichacha.net/zaoju/standby%20generator.html',\n",
        "       'https://glosbe.com/en/fr/standby%20generator',\n",
        "\n",
        "\n",
        "       #roof drain \n",
        "       'http://blog.equiparts.net/mifab-roofguards/',\n",
        "       'https://www.commercialplumbingsupply.com/products.asp?cat=17',\n",
        "       'https://www.portalsplus.com/roof-drains',\n",
        "       'https://eng.ichacha.net/zaoju/roof%20drain.html',\n",
        "       'https://glosbe.com/en/fr/roof%20drain',\n",
        "\n",
        "\n",
        "       #fuel storage tanks\n",
        "       'https://www.smallfarmcanada.ca/columns/equipment/fuel-storage-the-pros-and-cons-of-buying-and-storing-fuel-in/',\n",
        "       'https://www.powermag.com/understanding-diesel-fuel-storage-requirements/',\n",
        "       'https://www.burnsmcd.com/projects/fuel-storage-tank-replacement',\n",
        "       'https://eng.ichacha.net/zaoju/fuel%20storage.html',\n",
        "       'https://glosbe.com/en/fr/fuel%20storage',\n",
        "\n",
        "\n",
        "       #downspouts\n",
        "       'https://en.wikipedia.org/wiki/Downspout',\n",
        "       'https://www.designingbuildings.co.uk/wiki/Rainwater_downpipe',\n",
        "       'https://wikidiff.com/downpipe/downspout',\n",
        "       'https://www.collinsdictionary.com/dictionary/english-spanish/downspout',\n",
        "       'https://eng.ichacha.net/zaoju/downspout.html',\n",
        "       'https://eng.ichacha.net/zaoju/weeping%20tile.html',\n",
        "       'https://glosbe.com/en/fr/downspout',\n",
        "\n",
        "\n",
        "       #weeping tiles\n",
        "       'https://en.wikipedia.org/wiki/Weeping_tile',\n",
        "       'https://aquamasterplumbing.com/2015/01/26/everything-you-need-to-know-about-weeping-tile/',\n",
        "       'https://wikivisually.com/wiki/Weeping_tile',\n",
        "       'https://glosbe.com/en/fr/weeping%20tile',\n",
        "  \n",
        "\n",
        "\n",
        "       #site grading\n",
        "       'https://nearsay.com/c/362163/338839/what-is-site-grading-how-is-it-used-in-construction#:~:text=Site%20grading%20is%20a%20technique,a%20stronger%2C%20more%20even%20foundation.',\n",
        "       'https://designeverest.com/blog/what-are-site-grading-plans-and-earthwork-estimates/',\n",
        "       'https://www.buildingexpertscanada.com/engineering/site_grading',\n",
        "       'https://www.wisegeek.com/what-is-site-grading.htm',\n",
        "       'http://www.cowenconstruction.com/a-quick-intro-to-site-grading/',\n",
        "       'https://glosbe.com/en/fr/site%20grading',\n",
        "       'https://eng.ichacha.net/zaoju/site%20grading.html',\n",
        "\n",
        "\n",
        "\n",
        "\n",
        "       #flood barriers\n",
        "       'https://en.wikipedia.org/wiki/Flood_barrier',\n",
        "       'https://www.collinsdictionary.com/dictionary/english/flood-barrier',\n",
        "       'https://www.thefreedictionary.com/Flood+barrier',\n",
        "       'https://eng.ichacha.net/zaoju/flood%20barrier.html',\n",
        "       'https://glosbe.com/en/fr/flood%20barrier',\n",
        "\n",
        "\n",
        "\n",
        "       #below ground floors\n",
        "       'https://glosbe.com/en/fr/below%20ground%20floors',\n",
        "       \n",
        "\n",
        "\n",
        "       #support rooms\n",
        "       'https://glosbe.com/en/fr/support%20rooms',\n",
        "       \n",
        "\n",
        "\n",
        "       #rain water harvesting systems\n",
        "       'https://glosbe.com/en/fr/rainwater%20harvesting',\n",
        "       'https://glosbe.com/en/fr/rainwater%20harvesting%20system',\n",
        "       'https://eng.ichacha.net/zaoju/rainwater%20harvesting.html',\n",
        "\n",
        "\n",
        "       \n",
        "\n",
        "\n",
        "       #gutters\n",
        "      'https://glosbe.com/en/fr/gutters',\n",
        "      'https://eng.ichacha.net/zaoju/gutter.html',\n",
        "      'https://en.wikipedia.org/wiki/Rain_gutter',\n",
        "      'https://yourstudent-gemini.fandom.com/wiki/Rain_gutter',\n",
        "       \n",
        "]\n",
        "\n"
      ],
      "execution_count": 35,
      "outputs": []
    },
    {
      "cell_type": "code",
      "metadata": {
        "id": "fVvRi7R0gveC"
      },
      "source": [
        "texts = []\n",
        "\n",
        "for url in urls:\n",
        "  response = requests.get(url)\n",
        "  paragraphs = justext.justext(response.content, justext.get_stoplist(\"English\"))\n",
        "  for paragraph in paragraphs:\n",
        "    if not paragraph.is_boilerplate:\n",
        "      texts.append(paragraph.text)\n"
      ],
      "execution_count": 36,
      "outputs": []
    },
    {
      "cell_type": "markdown",
      "metadata": {
        "id": "nU8yWg4-47eO"
      },
      "source": [
        "# Load spacy for model training"
      ]
    },
    {
      "cell_type": "code",
      "metadata": {
        "id": "S9o5p84WcPLf",
        "outputId": "ede1bcc7-154b-4088-fbc2-a8a26edef2f3",
        "colab": {
          "base_uri": "https://localhost:8080/"
        }
      },
      "source": [
        "#Declare english vocab for our nlp object to define english language sentence boundaries\n",
        "nlp = spacy.blank(\"en\")\n",
        "nlp = English()\n",
        "nlp = en_core_web_md.load()\n",
        "nlp.max_length = 6130000 # or higher\n",
        "\n",
        "nlp.pipeline"
      ],
      "execution_count": 39,
      "outputs": [
        {
          "output_type": "execute_result",
          "data": {
            "text/plain": [
              "[('tagger', <spacy.pipeline.pipes.Tagger at 0x7f9dba599048>),\n",
              " ('parser', <spacy.pipeline.pipes.DependencyParser at 0x7f9db85ec468>),\n",
              " ('ner', <spacy.pipeline.pipes.EntityRecognizer at 0x7f9db85ec4c8>)]"
            ]
          },
          "metadata": {
            "tags": []
          },
          "execution_count": 39
        }
      ]
    },
    {
      "cell_type": "code",
      "metadata": {
        "id": "_dVhbAs0d_xh",
        "outputId": "e67e4051-2433-44fc-8a27-cde6be39070a",
        "colab": {
          "base_uri": "https://localhost:8080/"
        }
      },
      "source": [
        "sentencizer = Sentencizer(punct_chars=[\".\", \"?\", \"!\", \"。\"])\n",
        "nlp.add_pipe(sentencizer, before=\"tagger\")\n",
        "nlp.pipeline"
      ],
      "execution_count": 40,
      "outputs": [
        {
          "output_type": "execute_result",
          "data": {
            "text/plain": [
              "[('sentencizer', <spacy.pipeline.pipes.Sentencizer at 0x7f9db9f6e668>),\n",
              " ('tagger', <spacy.pipeline.pipes.Tagger at 0x7f9dba599048>),\n",
              " ('parser', <spacy.pipeline.pipes.DependencyParser at 0x7f9db85ec468>),\n",
              " ('ner', <spacy.pipeline.pipes.EntityRecognizer at 0x7f9db85ec4c8>)]"
            ]
          },
          "metadata": {
            "tags": []
          },
          "execution_count": 40
        }
      ]
    },
    {
      "cell_type": "code",
      "metadata": {
        "id": "pdlyDmYJ5LNs",
        "outputId": "4995ab41-66d6-4431-d57e-c50157a9506f",
        "colab": {
          "base_uri": "https://localhost:8080/"
        }
      },
      "source": [
        "# alternative code for sentence tokenization using nltk\n",
        "# tokens = tokenize.sent_tokenize(text)\n",
        "\n",
        "#sentence tokenization using english vocab and SpaCy Sentencizer\n",
        "#declare doc object to pass into our nlp pipeline\n",
        "all_text = \" \".join(str(x) for x in texts)    \n",
        "doc = nlp(all_text)\n",
        "\n",
        "#check number of sentences detected by Sentencizer\n",
        "print(\"Number of lines :\", (len(list(doc.sents))))\n",
        "\n",
        "# create a list of tokenized sentences\n",
        "sents = [sent.text.strip() for sent in doc.sents]\n",
        "\n",
        "#lemmatization\n",
        "\n",
        "#check sents list object\n",
        "#sents"
      ],
      "execution_count": 41,
      "outputs": [
        {
          "output_type": "stream",
          "text": [
            "Number of lines : 2129\n"
          ],
          "name": "stdout"
        }
      ]
    },
    {
      "cell_type": "code",
      "metadata": {
        "id": "VQmLPFzF5hsx"
      },
      "source": [
        "### Using Matcher - Need to improve\n",
        "'''\n",
        "Define matcher object using english vocab we defined earlier. \n",
        "Test using Matcher to define rules based on the token attributes of the string.\n",
        "'''\n",
        "\n",
        "LABEL = 'SUSTECH'\n",
        "\n",
        "token_matcher = Matcher(nlp.vocab, validate=True)\n",
        "\n",
        "# create token patterns - ADD more token patterns here!\n",
        "'''\n",
        "token_patterns = [\n",
        "    [{\"LOWER\": \"green\", 'POS': {'IN' : ['ADJ','NOUN', 'PROPN']}}, {\"LOWER\": \"roof\", 'POS': {'IN' : ['NOUN','PROPN']}}],\n",
        "    [{\"LOWER\": \"stormwater\", 'POS': {'IN' : ['ADJ','NOUN', 'PROPN']}},{\"LOWER\": \"pond\", 'POS': {'IN' : ['ADJ','NOUN', 'PROPN']}}],\n",
        "    [{\"LOWER\": \"stormwater\", 'POS': {'IN' : ['ADJ','NOUN', 'PROPN']}},{\"LOWER\": \"ponds\", 'POS': {'IN' : ['ADJ','NOUN', 'PROPN']}}],\n",
        "    [{\"LOWER\": \"sump\", 'POS': {'IN' : ['ADJ','NOUN', 'PROPN']}},{\"LOWER\": \"pump\", 'POS': {'IN' : ['ADJ','NOUN', 'PROPN']}}],\n",
        "    [{\"LOWER\": \"sump\", 'POS': {'IN' : ['ADJ','NOUN', 'PROPN']}},{\"LOWER\": \"pumps\", 'POS': {'IN' : ['ADJ','NOUN', 'PROPN']}}],\n",
        "    [{\"LOWER\": \"backup\", 'POS': {'IN' : ['ADJ','NOUN', 'PROPN']}},{\"LOWER\": \"generator\", 'POS': {'IN' : ['ADJ','NOUN', 'PROPN']}}],\n",
        "]\n",
        "'''\n",
        "\n",
        "\n",
        "token_patterns = [\n",
        "    [{\"LOWER\": \"green\"}, {\"LOWER\": \"roof\"}],\n",
        "    [{\"LOWER\": \"sump\"}, {\"LOWER\": \"pump\"}],\n",
        "    [{\"LOWER\": \"backwater\"},{\"LOWER\": \"valve\"}],\n",
        "    [{\"LOWER\": \"backup\"},{\"LOWER\": \"power\"}],\n",
        "    [{\"LOWER\": \"standby\"},{\"LOWER\": \"generator\"}],\n",
        "    [{\"LOWER\": \"backup\"},{\"LOWER\": \"generator\"}],\n",
        "    [{\"LOWER\": \"emergency\"},{\"LOWER\": \"power\"}],\n",
        "    [{\"LOWER\": \"roof\"},{\"LOWER\": \"drain\"}, {\"LOWER\": \"cover\"}],\n",
        "    [{\"LOWER\": \"roof\"},{\"LOWER\": \"drain\"}],\n",
        "    [{\"LOWER\": \"fuel\"},{\"LOWER\": \"storage\"}, {\"LOWER\": \"tank\"}],\n",
        "    [{\"LOWER\": \"fuel\"},{\"LOWER\": \"storage\"}],\n",
        "    [{\"LOWER\": \"downspout\"}],\n",
        "    [{\"LOWER\": \"weeping\"},{\"LOWER\": \"tiles\"}],\n",
        "    [{\"LOWER\": \"site\"},{\"LOWER\": \"grading\"}],\n",
        "    [{\"LOWER\": \"flood\"},{\"LOWER\": \"barrier\"}],\n",
        "    [{\"LOWER\": \"below\"},{\"LOWER\": \"ground\"}, {\"LOWER\": \"floor\"}],\n",
        "    [{\"LOWER\": \"support\"},{\"LOWER\": \"ground\"}, {\"LOWER\": \"room\"}],\n",
        "    [{\"LOWER\": \"rainwater\"}, {\"LOWER\": \"harvest\", \"LEMMA\": \"harvest\", \"POS\": {\"IN\": [\"NOUN\",\"VERB\"]}}],\n",
        "    [{\"LOWER\": \"rainwater\"}, {\"LOWER\": \"harvesting\", \"POS\": {\"IN\": [\"NOUN\"]}}],\n",
        "    [{\"LOWER\": \"gutter\"}],\n",
        "    [{\"LOWER\": \"rainwater\"}, {\"LOWER\": \"gutter\"}],\n",
        "\n",
        "    #plural patterns\n",
        "    [{\"LOWER\": \"green\"}, {\"LOWER\": \"roofs\"}],\n",
        "    [{\"LOWER\": \"sump\"}, {\"LOWER\": \"pumps\"}],\n",
        "    [{\"LOWER\": \"backwater\"},{\"LOWER\": \"valves\"}],\n",
        "    [{\"LOWER\": \"backup\"},{\"LOWER\": \"powers\"}],\n",
        "    [{\"LOWER\": \"backup\"},{\"LOWER\": \"generators\"}],\n",
        "    [{\"LOWER\": \"emergency\"},{\"LOWER\": \"powers\"}],\n",
        "    [{\"LOWER\": \"roof\"},{\"LOWER\": \"drain\"}, {\"LOWER\": \"covers\"}],\n",
        "    [{\"LOWER\": \"roof\"},{\"LOWER\": \"drains\"}],\n",
        "    [{\"LOWER\": \"fuel\"},{\"LOWER\": \"storage\"}, {\"LOWER\": \"tanks\"}],\n",
        "    [{\"LOWER\": \"fuel\"},{\"LOWER\": \"storages\"}],\n",
        "    [{\"LOWER\": \"downspouts\"}],\n",
        "    [{\"LOWER\": \"weeping\"},{\"LOWER\": \"tiles\"}],\n",
        "    [{\"LOWER\": \"site\"},{\"LOWER\": \"gradings\"}],\n",
        "    [{\"LOWER\": \"flood\"},{\"LOWER\": \"barriers\"}],\n",
        "    [{\"LOWER\": \"below\"},{\"LOWER\": \"ground\"}, {\"LOWER\": \"floors\"}],\n",
        "    [{\"LOWER\": \"support\"},{\"LOWER\": \"ground\"}, {\"LOWER\": \"rooms\"}],\n",
        "    [{\"LOWER\": \"rainwater\"}, {\"LOWER\": \"harvests\", \"LEMMA\": \"harvests\", \"POS\": {\"IN\": [\"NOUN\", \"VERB\"]}}],\n",
        "    [{\"LOWER\": \"rainwater\"}, {\"LOWER\": \"harvestings\", \"LEMMA\": \"harvestings\", \"POS\": {\"IN\": [\"NOUN\"]}}],\n",
        "    [{\"LOWER\": \"gutters\"}],\n",
        "    [{\"LOWER\": \"rainwater\"}, {\"LOWER\": \"gutters\"}],\n",
        "\n",
        "]\n",
        "\n",
        "\n",
        "\n",
        "token_matcher.add(LABEL, None, *token_patterns)\n"
      ],
      "execution_count": null,
      "outputs": []
    },
    {
      "cell_type": "code",
      "metadata": {
        "id": "7tSKhUq25sDb"
      },
      "source": [
        "text = (\n",
        "    '''I have a broken green roof in my Green Roof hood. There is no Stormwater Pond on this roof. I like stormwater ponds. \\n\n",
        "    The backup generator located on the 8th floor is not working. The Sump Pump is so broken. \\n\n",
        "    The rainwater harvest is not working.\n",
        "    ''')\n",
        "test_doc = nlp(text)\n",
        "words_lemmas_list = [token.lemma_ for token in test_doc]\n",
        "\n",
        "print(test_doc)\n",
        "print(words_lemmas_list)\n",
        "#tokenizer = nlp.Defaults.create_tokenizer(nlp)\n",
        "\n",
        "for idx, start, end in token_matcher(test_doc):\n",
        "    print(test_doc[start:end],)\n",
        "    \n",
        "tokens = [token.text for token in test_doc]\n",
        "tags = [token.tag for token in test_doc]\n",
        "displacy.render(test_doc, style='dep', jupyter=True)"
      ],
      "execution_count": null,
      "outputs": []
    },
    {
      "cell_type": "code",
      "metadata": {
        "id": "Fsle59AW5uqk"
      },
      "source": [
        "#define our utility function\n",
        "def train_parser(doc):\n",
        "    position = [(doc[start:end].start_char, doc[start:end].end_char, LABEL) for \n",
        "                  idx, start, end in token_matcher(doc)]\n",
        "    return (doc.text,  {'entities': position})"
      ],
      "execution_count": null,
      "outputs": []
    },
    {
      "cell_type": "code",
      "metadata": {
        "id": "4Ex9_Db45vLr"
      },
      "source": [
        "train_parser(test_doc)"
      ],
      "execution_count": null,
      "outputs": []
    },
    {
      "cell_type": "code",
      "metadata": {
        "id": "nE4VF_F05xYs"
      },
      "source": [
        "TRAIN_DATA = [train_parser(d) for d in nlp.pipe(sents) if len(token_matcher(d))==1]\n",
        "TRAIN_DATA[0:10]\n",
        "#len(TRAIN_DATA)"
      ],
      "execution_count": null,
      "outputs": []
    },
    {
      "cell_type": "code",
      "metadata": {
        "id": "GAIqJpfX502r"
      },
      "source": [
        "train_path = r'/content/drive/My Drive/Colab Notebooks/nlp-ner-sustain-notebook/train'\n",
        "TRAIN_DATA_OUTPUT = pd.DataFrame(TRAIN_DATA, columns=['text',\n",
        "                                                      'position'])\n",
        "TRAIN_DATA_OUTPUT.to_csv(os.path.join(train_path,'trainset3.csv'), index=False)"
      ],
      "execution_count": null,
      "outputs": []
    }
  ]
}