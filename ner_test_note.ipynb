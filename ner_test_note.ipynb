{
  "nbformat": 4,
  "nbformat_minor": 0,
  "metadata": {
    "kernelspec": {
      "display_name": "Python 3",
      "language": "python",
      "name": "python3"
    },
    "language_info": {
      "codemirror_mode": {
        "name": "ipython",
        "version": 3
      },
      "file_extension": ".py",
      "mimetype": "text/x-python",
      "name": "python",
      "nbconvert_exporter": "python",
      "pygments_lexer": "ipython3",
      "version": "3.8.4"
    },
    "colab": {
      "name": "Copy of ner-test-note.ipynb",
      "provenance": [],
      "collapsed_sections": [],
      "toc_visible": true,
      "include_colab_link": true
    }
  },
  "cells": [
    {
      "cell_type": "markdown",
      "metadata": {
        "id": "view-in-github",
        "colab_type": "text"
      },
      "source": [
        "<a href=\"https://colab.research.google.com/github/sunc-dev/spaCY-ner-sustain/blob/main/ner_test_note.ipynb\" target=\"_parent\"><img src=\"https://colab.research.google.com/assets/colab-badge.svg\" alt=\"Open In Colab\"/></a>"
      ]
    },
    {
      "cell_type": "markdown",
      "metadata": {
        "id": "7JsFkGqel9sn"
      },
      "source": [
        "# <font size=\"10\">Custom entity recognition </font>\n",
        "## TESTING THE MODEL\n"
      ]
    },
    {
      "cell_type": "code",
      "metadata": {
        "id": "sd98Tshql9so"
      },
      "source": [
        "import os\n",
        "import pandas as pd\n",
        "import numpy as np\n",
        "import uuid \n",
        "import spacy\n",
        "from spacy import displacy\n",
        "from spacy.lang.en import English\n",
        "from spacy.lang.en.stop_words import STOP_WORDS\n",
        "from spacy.scorer import Scorer\n",
        "from collections import defaultdict \n",
        "import gc\n"
      ],
      "execution_count": 1,
      "outputs": []
    },
    {
      "cell_type": "code",
      "metadata": {
        "id": "tQIuPwRvm29i",
        "outputId": "f6a3170e-f49d-46d9-a875-386644992e70",
        "colab": {
          "base_uri": "https://localhost:8080/"
        }
      },
      "source": [
        "#mount drive\n",
        "from google.colab import drive\n",
        "drive.mount('/content/drive')"
      ],
      "execution_count": 2,
      "outputs": [
        {
          "output_type": "stream",
          "text": [
            "Mounted at /content/drive\n"
          ],
          "name": "stdout"
        }
      ]
    },
    {
      "cell_type": "code",
      "metadata": {
        "id": "kmdRcmE0nK9z",
        "outputId": "55505a67-c842-4943-c124-61c741bbc3f1",
        "colab": {
          "base_uri": "https://localhost:8080/"
        }
      },
      "source": [
        "root = r'/content/drive/My Drive/Colab Notebooks/nlp-ner-sustain-notebook/test'\n",
        "file = 'systems.csv'\n",
        "print('Filepath is :',(os.path.join( root, file)))\n",
        "\n",
        "data = pd.read_csv(os.path.join(root, file))\n",
        "data['id'] = [uuid.uuid4() for _ in range(len(data.index))]\n",
        "\n",
        "\n",
        "#comments = [_ for _ in data['System - Comments']]\n",
        "#description = [_ for _ in data['System - Description']]\n",
        "\n",
        "\n",
        "    \n",
        "comments = data.reset_index()[['id', 'System - Comments']].values.tolist()\n",
        "description = data.reset_index()[['id', 'System - Description']].values.tolist()\n",
        "\n",
        "\n",
        "\n",
        "#combine list of text data\n",
        "for i in description:\n",
        "  comments.append(i)\n",
        "  \n",
        "#clean test\n",
        "#comments = [x for x in comments if str(x) != 'nan']\n",
        "#comments"
      ],
      "execution_count": 3,
      "outputs": [
        {
          "output_type": "stream",
          "text": [
            "Filepath is : /content/drive/My Drive/Colab Notebooks/nlp-ner-sustain-notebook/test/systems.csv\n"
          ],
          "name": "stdout"
        }
      ]
    },
    {
      "cell_type": "code",
      "metadata": {
        "id": "beLofF7pl9st",
        "outputId": "38dc3443-3621-4d64-ddfa-daee5783a731",
        "colab": {
          "base_uri": "https://localhost:8080/",
          "height": 106
        }
      },
      "source": [
        "'''root = r'./test/'\n",
        "file = 'systems.csv'\n",
        "print('Filepath is :',(os.path.join( root, file)))\n",
        "\n",
        "data = pd.read_csv(os.path.join(root, file))\n",
        "data['id'] = [uuid.uuid4() for _ in range(len(data.index))]\n",
        "\n",
        "\n",
        "#comments = [_ for _ in data['System - Comments']]\n",
        "#description = [_ for _ in data['System - Description']]\n",
        "\n",
        "\n",
        "    \n",
        "comments = data.reset_index()[['id', 'System - Comments']].values.tolist()\n",
        "description = data.reset_index()[['id', 'System - Description']].values.tolist()\n",
        "\n",
        "\n",
        "\n",
        "#combine list of text data\n",
        "for i in description:\n",
        "  comments.append(i)\n",
        "  \n",
        "#clean test\n",
        "#comments = [x for x in comments if str(x) != 'nan']\n",
        "#comments'''"
      ],
      "execution_count": 4,
      "outputs": [
        {
          "output_type": "execute_result",
          "data": {
            "application/vnd.google.colaboratory.intrinsic+json": {
              "type": "string"
            },
            "text/plain": [
              "\"root = r'./test/'\\nfile = 'systems.csv'\\nprint('Filepath is :',(os.path.join( root, file)))\\n\\ndata = pd.read_csv(os.path.join(root, file))\\ndata['id'] = [uuid.uuid4() for _ in range(len(data.index))]\\n\\n\\n#comments = [_ for _ in data['System - Comments']]\\n#description = [_ for _ in data['System - Description']]\\n\\n\\n    \\ncomments = data.reset_index()[['id', 'System - Comments']].values.tolist()\\ndescription = data.reset_index()[['id', 'System - Description']].values.tolist()\\n\\n\\n\\n#combine list of text data\\nfor i in description:\\n  comments.append(i)\\n  \\n#clean test\\n#comments = [x for x in comments if str(x) != 'nan']\\n#comments\""
            ]
          },
          "metadata": {
            "tags": []
          },
          "execution_count": 4
        }
      ]
    },
    {
      "cell_type": "code",
      "metadata": {
        "id": "ReMQ7CP4pHBd",
        "outputId": "8c75bc8e-5d06-480f-f8da-fe87edaaaa0c",
        "colab": {
          "base_uri": "https://localhost:8080/"
        }
      },
      "source": [
        "model_dir = r'/content/drive/My Drive/Colab Notebooks/nlp-ner-sustain-notebook/model'\n",
        "\n",
        "print(\"Loading from\", model_dir)\n",
        "nlp = spacy.load(model_dir)"
      ],
      "execution_count": 5,
      "outputs": [
        {
          "output_type": "stream",
          "text": [
            "Loading from /content/drive/My Drive/Colab Notebooks/nlp-ner-sustain-notebook/model\n"
          ],
          "name": "stdout"
        }
      ]
    },
    {
      "cell_type": "code",
      "metadata": {
        "id": "qLhHqncdl9sx",
        "outputId": "08a037ab-9784-438f-fcf7-5cd4d4b9c852",
        "colab": {
          "base_uri": "https://localhost:8080/",
          "height": 35
        }
      },
      "source": [
        "'''model_dir = r'./model'\n",
        "\n",
        "print(\"Loading from\", model_dir)\n",
        "nlp = spacy.load(model_dir)'''"
      ],
      "execution_count": 6,
      "outputs": [
        {
          "output_type": "execute_result",
          "data": {
            "application/vnd.google.colaboratory.intrinsic+json": {
              "type": "string"
            },
            "text/plain": [
              "'model_dir = r\\'./model\\'\\n\\nprint(\"Loading from\", model_dir)\\nnlp = spacy.load(model_dir)'"
            ]
          },
          "metadata": {
            "tags": []
          },
          "execution_count": 6
        }
      ]
    },
    {
      "cell_type": "code",
      "metadata": {
        "id": "xG0GjwQ2l9sz"
      },
      "source": [
        "result = []\n",
        "\n",
        "\n",
        "for comment in comments:\n",
        "    if comment[1] is np.nan:\n",
        "        labeled_entities = (comment[0], comment[1], 'No text', [np.nan])\n",
        "        #print(labeled_entities)\n",
        "\n",
        "    else: \n",
        "        doc = nlp(comment[1])\n",
        "        #beams = nlp.entity.beam_parse([doc], beam_width=16, beam_density=0.0001)\n",
        "        #for score, ents in nlp.entity.moves.get_beam_parses(beams[0]):\n",
        "            #print (score, ents)\n",
        "            #entity_scores = defaultdict(float)\n",
        "        #for start, end, label in ents:\n",
        "            # print (\"here\")\n",
        "            #entity_scores[(start, end, label)] += score\n",
        "            #print ('entity_scores', entity_scores)\n",
        "        \n",
        "        labeled_entities = (comment[0], comment[1], 'Entities', [(ent.text, ent.label_) for ent in doc.ents])\n",
        "        #print(labeled_entities)\n",
        "    result.append(labeled_entities)\n",
        "    gc.collect()\n"
      ],
      "execution_count": null,
      "outputs": []
    },
    {
      "cell_type": "code",
      "metadata": {
        "id": "3S5QQVoVl9s2"
      },
      "source": [
        "result"
      ],
      "execution_count": null,
      "outputs": []
    },
    {
      "cell_type": "code",
      "metadata": {
        "id": "_LwhkH5il9s4"
      },
      "source": [
        "TEST_OUTPUT = pd.DataFrame(result, columns=['id','text','entities', 'position'])\n"
      ],
      "execution_count": null,
      "outputs": []
    },
    {
      "cell_type": "code",
      "metadata": {
        "id": "0uewzDppl9s6"
      },
      "source": [
        "TEST_OUTPUT.to_csv(os.path.join(root, 'TEST_OUTPUT.csv'))"
      ],
      "execution_count": null,
      "outputs": []
    },
    {
      "cell_type": "code",
      "metadata": {
        "id": "Guq2X1a0l9s9"
      },
      "source": [
        ""
      ],
      "execution_count": null,
      "outputs": []
    }
  ]
}