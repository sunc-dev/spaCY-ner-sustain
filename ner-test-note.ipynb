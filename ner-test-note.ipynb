{
 "cells": [
  {
   "cell_type": "markdown",
   "metadata": {},
   "source": [
    "# <font size=\"10\">Custom entity recognition </font>\n",
    "## TESTING THE MODEL\n"
   ]
  },
  {
   "cell_type": "code",
   "execution_count": 1,
   "metadata": {},
   "outputs": [],
   "source": [
    "import os\n",
    "import pandas as pd\n",
    "import numpy as np\n",
    "import uuid \n",
    "import spacy\n",
    "from spacy import displacy\n",
    "from spacy.lang.en import English\n",
    "from spacy.lang.en.stop_words import STOP_WORDS\n"
   ]
  },
  {
   "cell_type": "code",
   "execution_count": 2,
   "metadata": {},
   "outputs": [
    {
     "name": "stdout",
     "output_type": "stream",
     "text": [
      "Filepath is : ./test/systems.csv\n"
     ]
    }
   ],
   "source": [
    "root = r'./test/'\n",
    "file = 'systems.csv'\n",
    "print('Filepath is :',(os.path.join( root, file)))\n",
    "\n",
    "data = pd.read_csv(os.path.join(root, file))\n",
    "data['id'] = [uuid.uuid4() for _ in range(len(data.index))]\n",
    "\n",
    "\n",
    "#comments = [_ for _ in data['System - Comments']]\n",
    "#description = [_ for _ in data['System - Description']]\n",
    "\n",
    "\n",
    "    \n",
    "comments = data.reset_index()[['id', 'System - Comments']].values.tolist()\n",
    "description = data.reset_index()[['id', 'System - Description']].values.tolist()\n",
    "\n",
    "\n",
    "\n",
    "#combine list of text data\n",
    "for i in description:\n",
    "  comments.append(i)\n",
    "  \n",
    "#clean test\n",
    "#comments = [x for x in comments if str(x) != 'nan']\n",
    "#comments"
   ]
  },
  {
   "cell_type": "code",
   "execution_count": 3,
   "metadata": {},
   "outputs": [
    {
     "name": "stdout",
     "output_type": "stream",
     "text": [
      "Loading from ./model\n"
     ]
    }
   ],
   "source": [
    "model_dir = r'./model'\n",
    "\n",
    "print(\"Loading from\", model_dir)\n",
    "nlp = spacy.load(model_dir)"
   ]
  },
  {
   "cell_type": "code",
   "execution_count": 5,
   "metadata": {},
   "outputs": [],
   "source": [
    "result = []\n",
    "\n",
    "\n",
    "for comment in comments:\n",
    "    if comment[1] is np.nan:\n",
    "        label = 'No text'\n",
    "        #print(label)\n",
    "    else: \n",
    "        doc = nlp(comment[1])\n",
    "        label = (\"Entities\", [(ent.text, ent.label_) for ent in doc.ents])\n",
    "        #print(label)\n",
    "        \n",
    "    result.append(label)"
   ]
  },
  {
   "cell_type": "code",
   "execution_count": null,
   "metadata": {},
   "outputs": [],
   "source": [
    "result"
   ]
  },
  {
   "cell_type": "code",
   "execution_count": null,
   "metadata": {},
   "outputs": [],
   "source": [
    "TEST_OUTPUT = pd.DataFrame(result, columns=['text','position'])"
   ]
  },
  {
   "cell_type": "code",
   "execution_count": null,
   "metadata": {},
   "outputs": [],
   "source": [
    "TEST_OUTPUT.to_csv(os.path.join(root, 'TEST_OUTPUT.csv'))"
   ]
  },
  {
   "cell_type": "code",
   "execution_count": null,
   "metadata": {},
   "outputs": [],
   "source": []
  }
 ],
 "metadata": {
  "kernelspec": {
   "display_name": "Python 3",
   "language": "python",
   "name": "python3"
  },
  "language_info": {
   "codemirror_mode": {
    "name": "ipython",
    "version": 3
   },
   "file_extension": ".py",
   "mimetype": "text/x-python",
   "name": "python",
   "nbconvert_exporter": "python",
   "pygments_lexer": "ipython3",
   "version": "3.8.4"
  }
 },
 "nbformat": 4,
 "nbformat_minor": 4
}
